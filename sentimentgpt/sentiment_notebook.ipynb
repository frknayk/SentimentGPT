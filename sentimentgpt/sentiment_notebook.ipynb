{
 "cells": [
  {
   "cell_type": "code",
   "execution_count": 2,
   "metadata": {},
   "outputs": [
    {
     "data": {
      "text/plain": [
       "{'sentence': {'customer': \"Hello! I'm thinking of buying the iPhone 14, but I'm not sure which model to choose. Can you help me decide?\",\n",
       "  'bot': \"Of course, I'd be delighted to assist you in selecting the perfect iPhone 14 model. Could you please share your main usage priorities? Are you looking for top-notch camera features, high-performance capabilities, or something else?\"},\n",
       " 'intent_bot': {'labels': ['camera',\n",
       "   'compatibility',\n",
       "   'durability',\n",
       "   'battery',\n",
       "   'storage'],\n",
       "  'scores': [0.7308412790298462,\n",
       "   0.1360185444355011,\n",
       "   0.055183712393045425,\n",
       "   0.04009850695729256,\n",
       "   0.037857890129089355]},\n",
       " 'intent_customer': {'labels': ['compatibility',\n",
       "   'storage',\n",
       "   'camera',\n",
       "   'durability',\n",
       "   'battery'],\n",
       "  'scores': [0.4340726435184479,\n",
       "   0.15499922633171082,\n",
       "   0.15069378912448883,\n",
       "   0.13660714030265808,\n",
       "   0.12362721562385559]},\n",
       " 'sentiment_customer': {'labels': ['positive', 'neutral', 'negative'],\n",
       "  'scores': [0.5501211285591125, 0.28433698415756226, 0.16554193198680878]},\n",
       " 'sentiment_bot': {'labels': ['positive', 'negative', 'neutral'],\n",
       "  'scores': [0.7646854519844055, 0.13015080988407135, 0.10516374558210373]}}"
      ]
     },
     "execution_count": 2,
     "metadata": {},
     "output_type": "execute_result"
    }
   ],
   "source": [
    "from sentimentgpt.classifier import PipelineSIGPT\n",
    "import json\n",
    "\n",
    "# Define candidate labels for both sentiment and intention\n",
    "candidate_labels_sentiment = ['positive', 'neutral', 'negative']\n",
    "candidate_labels_intention = ['compatibility', 'durability', 'storage', 'battery', 'camera']\n",
    "config_zs = {\n",
    "    \"candidate_labels_sentiment\":candidate_labels_sentiment,\n",
    "    \"candidate_labels_intention\":candidate_labels_intention}\n",
    "pipe_sigpt = PipelineSIGPT(config_zs)\n",
    "# load conversation data: data/data.json\n",
    "conversations = {}\n",
    "with open(\"data\\data.json\") as json_file:\n",
    "    conversations = json.load(json_file)[\"conversation\"]\n",
    "    json_file.close()\n",
    "# Load the first interaction between human-chatbot\n",
    "conv = pipe_sigpt.analyze_interaction(conversations[0])\n",
    "conv"
   ]
  },
  {
   "cell_type": "code",
   "execution_count": null,
   "metadata": {},
   "outputs": [],
   "source": []
  }
 ],
 "metadata": {
  "kernelspec": {
   "display_name": "llm_env",
   "language": "python",
   "name": "python3"
  },
  "language_info": {
   "codemirror_mode": {
    "name": "ipython",
    "version": 3
   },
   "file_extension": ".py",
   "mimetype": "text/x-python",
   "name": "python",
   "nbconvert_exporter": "python",
   "pygments_lexer": "ipython3",
   "version": "3.10.12"
  },
  "orig_nbformat": 4
 },
 "nbformat": 4,
 "nbformat_minor": 2
}
